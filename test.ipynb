{
 "cells": [
  {
   "cell_type": "code",
   "execution_count": 34,
   "id": "c3a620b2",
   "metadata": {},
   "outputs": [],
   "source": [
    "import pandas as pd\n",
    "import numpy as np\n",
    "import matplotlib.pyplot as plt\n",
    "import seaborn as sns"
   ]
  },
  {
   "cell_type": "code",
   "execution_count": 26,
   "id": "0f8137e3",
   "metadata": {},
   "outputs": [
    {
     "data": {
      "text/html": [
       "<div>\n",
       "<style scoped>\n",
       "    .dataframe tbody tr th:only-of-type {\n",
       "        vertical-align: middle;\n",
       "    }\n",
       "\n",
       "    .dataframe tbody tr th {\n",
       "        vertical-align: top;\n",
       "    }\n",
       "\n",
       "    .dataframe thead th {\n",
       "        text-align: right;\n",
       "    }\n",
       "</style>\n",
       "<table border=\"1\" class=\"dataframe\">\n",
       "  <thead>\n",
       "    <tr style=\"text-align: right;\">\n",
       "      <th></th>\n",
       "      <th>Date</th>\n",
       "      <th>Description</th>\n",
       "      <th>Amount</th>\n",
       "      <th>Transaction Type</th>\n",
       "      <th>Category</th>\n",
       "      <th>Account Name</th>\n",
       "    </tr>\n",
       "  </thead>\n",
       "  <tbody>\n",
       "    <tr>\n",
       "      <th>0</th>\n",
       "      <td>01/01/2018</td>\n",
       "      <td>Amazon</td>\n",
       "      <td>11.11</td>\n",
       "      <td>debit</td>\n",
       "      <td>Shopping</td>\n",
       "      <td>Platinum Card</td>\n",
       "    </tr>\n",
       "    <tr>\n",
       "      <th>1</th>\n",
       "      <td>01/02/2018</td>\n",
       "      <td>Mortgage Payment</td>\n",
       "      <td>1247.44</td>\n",
       "      <td>debit</td>\n",
       "      <td>Mortgage &amp; Rent</td>\n",
       "      <td>Checking</td>\n",
       "    </tr>\n",
       "    <tr>\n",
       "      <th>2</th>\n",
       "      <td>01/02/2018</td>\n",
       "      <td>Thai Restaurant</td>\n",
       "      <td>24.22</td>\n",
       "      <td>debit</td>\n",
       "      <td>Restaurants</td>\n",
       "      <td>Silver Card</td>\n",
       "    </tr>\n",
       "    <tr>\n",
       "      <th>3</th>\n",
       "      <td>01/03/2018</td>\n",
       "      <td>Credit Card Payment</td>\n",
       "      <td>2298.09</td>\n",
       "      <td>credit</td>\n",
       "      <td>Credit Card Payment</td>\n",
       "      <td>Platinum Card</td>\n",
       "    </tr>\n",
       "    <tr>\n",
       "      <th>4</th>\n",
       "      <td>01/04/2018</td>\n",
       "      <td>Netflix</td>\n",
       "      <td>11.76</td>\n",
       "      <td>debit</td>\n",
       "      <td>Movies &amp; DVDs</td>\n",
       "      <td>Platinum Card</td>\n",
       "    </tr>\n",
       "  </tbody>\n",
       "</table>\n",
       "</div>"
      ],
      "text/plain": [
       "         Date          Description   Amount Transaction Type  \\\n",
       "0  01/01/2018               Amazon    11.11            debit   \n",
       "1  01/02/2018     Mortgage Payment  1247.44            debit   \n",
       "2  01/02/2018      Thai Restaurant    24.22            debit   \n",
       "3  01/03/2018  Credit Card Payment  2298.09           credit   \n",
       "4  01/04/2018              Netflix    11.76            debit   \n",
       "\n",
       "              Category   Account Name  \n",
       "0             Shopping  Platinum Card  \n",
       "1      Mortgage & Rent       Checking  \n",
       "2          Restaurants    Silver Card  \n",
       "3  Credit Card Payment  Platinum Card  \n",
       "4        Movies & DVDs  Platinum Card  "
      ]
     },
     "execution_count": 26,
     "metadata": {},
     "output_type": "execute_result"
    }
   ],
   "source": [
    "df = pd.read_csv('db/personal_transactions.csv')\n",
    "df.head()"
   ]
  },
  {
   "cell_type": "code",
   "execution_count": 27,
   "id": "4a4821e1",
   "metadata": {},
   "outputs": [
    {
     "data": {
      "text/plain": [
       "220353.54"
      ]
     },
     "execution_count": 27,
     "metadata": {},
     "output_type": "execute_result"
    }
   ],
   "source": [
    "df['Amount'].sum()"
   ]
  },
  {
   "cell_type": "code",
   "execution_count": 28,
   "id": "78be3f86",
   "metadata": {},
   "outputs": [
    {
     "name": "stdout",
     "output_type": "stream",
     "text": [
      "01/01/2018\n",
      "12/29/2018\n"
     ]
    }
   ],
   "source": [
    "print(df['Date'].min())\n",
    "print(df['Date'].max())\n"
   ]
  },
  {
   "cell_type": "code",
   "execution_count": 29,
   "id": "60cb01c2",
   "metadata": {},
   "outputs": [
    {
     "name": "stdout",
     "output_type": "stream",
     "text": [
      "Number of categories: 22\n",
      "Categories: ['Shopping' 'Mortgage & Rent' 'Restaurants' 'Credit Card Payment'\n",
      " 'Movies & DVDs' 'Home Improvement' 'Utilities' 'Music' 'Mobile Phone'\n",
      " 'Gas & Fuel' 'Groceries' 'Paycheck' 'Fast Food' 'Coffee Shops' 'Internet'\n",
      " 'Haircut' 'Alcohol & Bars' 'Auto Insurance' 'Entertainment'\n",
      " 'Food & Dining' 'Television' 'Electronics & Software']\n"
     ]
    }
   ],
   "source": [
    "print(f\"Number of categories: {df[\"Category\"].nunique()}\")\n",
    "print(f\"Categories: {df[\"Category\"].unique()}\")"
   ]
  },
  {
   "cell_type": "code",
   "execution_count": 30,
   "id": "d61c4bcd",
   "metadata": {},
   "outputs": [],
   "source": [
    "mapping = {\n",
    "    'Restaurants': 'Food & Dining',\n",
    "    'Fast Food': 'Food & Dining',\n",
    "    'Coffee Shops': 'Food & Dining',\n",
    "    'Alcohol & Bars': 'Food & Dining',\n",
    "    'Food & Dining': 'Food & Dining',\n",
    "    \n",
    "    'Movies & DVDs': 'Entertainment',\n",
    "    'Music': 'Entertainment',\n",
    "    'Entertainment': 'Entertainment',\n",
    "    'Television': 'Entertainment',\n",
    "    \n",
    "    'Shopping': 'Shopping & Services',\n",
    "    'Home Improvement': 'Shopping & Services',\n",
    "    'Haircut': 'Shopping & Services',\n",
    "    'Electronics & Software': 'Shopping & Services',\n",
    "    'Mobile Phone': 'Shopping & Services',\n",
    "    'Internet': 'Shopping & Services',\n",
    "    \n",
    "    'Mortgage & Rent': 'Housing & Utilities',\n",
    "    'Utilities': 'Housing & Utilities',\n",
    "    'Gas & Fuel': 'Housing & Utilities',\n",
    "    'Auto Insurance': 'Housing & Utilities',\n",
    "    'Credit Card Payment': 'Housing & Utilities',\n",
    "    'Paycheck': 'Housing & Utilities',\n",
    "    \n",
    "    'Groceries': 'Groceries'\n",
    "}\n",
    "df['Category'] = df['Category'].replace(mapping)\n"
   ]
  },
  {
   "cell_type": "code",
   "execution_count": 31,
   "id": "d13922c3",
   "metadata": {},
   "outputs": [
    {
     "name": "stdout",
     "output_type": "stream",
     "text": [
      "Number of categories: 5\n",
      "Categories: ['Shopping & Services' 'Housing & Utilities' 'Food & Dining'\n",
      " 'Entertainment' 'Groceries']\n"
     ]
    }
   ],
   "source": [
    "print(\"Number of categories:\", df['Category'].nunique())\n",
    "print(\"Categories:\", df['Category'].unique())"
   ]
  },
  {
   "cell_type": "code",
   "execution_count": null,
   "id": "a1717c79",
   "metadata": {},
   "outputs": [
    {
     "name": "stdout",
     "output_type": "stream",
     "text": [
      "[561.08, 3676.07, 2795.21, 187906.79, 25414.39]\n"
     ]
    }
   ],
   "source": [
    "colors = ['#ff9999','#66b3ff','#99ff99','#ffcc99']\n",
    "labels = df['Category'].unique()\n",
    "sizes = df.groupby('Category')['Amount'].sum()\n"
   ]
  },
  {
   "cell_type": "code",
   "execution_count": 36,
   "id": "94e2696a",
   "metadata": {},
   "outputs": [
    {
     "data": {
      "text/plain": [
       "{'Shopping & Services': 561.08,\n",
       " 'Housing & Utilities': 3676.07,\n",
       " 'Food & Dining': 2795.21,\n",
       " 'Entertainment': 187906.79,\n",
       " 'Groceries': 25414.39}"
      ]
     },
     "execution_count": 36,
     "metadata": {},
     "output_type": "execute_result"
    }
   ],
   "source": [
    "dict(zip(labels,sizes))"
   ]
  },
  {
   "cell_type": "code",
   "execution_count": null,
   "id": "63ded71b",
   "metadata": {},
   "outputs": [],
   "source": []
  },
  {
   "cell_type": "code",
   "execution_count": 47,
   "id": "43fb1369",
   "metadata": {},
   "outputs": [
    {
     "data": {
      "image/png": "[encoded data removed]",
      "text/plain": [
       "<Figure size 700x700 with 1 Axes>"
      ]
     },
     "metadata": {},
     "output_type": "display_data"
    }
   ],
   "source": [
    "fig, ax = plt.subplots(figsize=(7, 7))\n",
    "wedges, texts, autotexts = ax.pie(\n",
    "    sizes,\n",
    "    colors=colors,\n",
    "    startangle=90,\n",
    "    wedgeprops={'width': 0.3},\n",
    "    autopct=lambda pct:'',\n",
    "    pctdistance=0.85,  # Adjusts percentage position just inside outer edge\n",
    "    labels=[''] * len(labels),  # Remove text labels here\n",
    "    textprops={'fontsize': 10}\n",
    ")\n",
    "\n",
    "# Draw center circle for donut effect\n",
    "centre_circle = plt.Circle((0, 0), 0.70, fc='white')\n",
    "ax.add_artist(centre_circle)\n",
    "\n",
    "# Add legend instead of labels to avoid clutter\n",
    "ax.legend(wedges, labels, title=\"Categories\", loc=\"center left\", bbox_to_anchor=(1, 0, 0.5, 1))\n",
    "\n",
    "plt.tight_layout()\n",
    "plt.show()"
   ]
  }
 ],
 "metadata": {
  "kernelspec": {
   "display_name": "base",
   "language": "python",
   "name": "python3"
  },
  "language_info": {
   "codemirror_mode": {
    "name": "ipython",
    "version": 3
   },
   "file_extension": ".py",
   "mimetype": "text/x-python",
   "name": "python",
   "nbconvert_exporter": "python",
   "pygments_lexer": "ipython3",
   "version": "3.12.3"
  }
 },
 "nbformat": 4,
 "nbformat_minor": 5
}
